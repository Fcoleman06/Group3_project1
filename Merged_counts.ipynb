{
 "cells": [
  {
   "cell_type": "code",
   "execution_count": 22,
   "metadata": {},
   "outputs": [],
   "source": [
    "#-------------------------------\n",
    "# Dependencies and Setup\n",
    "#-------------------------------\n",
    "\n",
    "import matplotlib.pyplot as plt\n",
    "import pandas as pd\n",
    "import scipy.stats as st\n",
    "\n",
    "\n",
    "#-------------------------------\n",
    "# Dependencies and Setup\n",
    "#-------------------------------\n",
    "\n",
    "pop_df = pd.read_csv('resources/NYC_Bor_pop.csv')\n",
    "arrest_df = pd.read_csv('resources/NYC_Bor_Arrest.csv')\n",
    "MentFac_df = pd.read_csv('resources/Ment_Fac_Bor.csv')\n"
   ]
  },
  {
   "cell_type": "code",
   "execution_count": 20,
   "metadata": {},
   "outputs": [
    {
     "data": {
      "text/html": [
       "<div>\n",
       "<style scoped>\n",
       "    .dataframe tbody tr th:only-of-type {\n",
       "        vertical-align: middle;\n",
       "    }\n",
       "\n",
       "    .dataframe tbody tr th {\n",
       "        vertical-align: top;\n",
       "    }\n",
       "\n",
       "    .dataframe thead th {\n",
       "        text-align: right;\n",
       "    }\n",
       "</style>\n",
       "<table border=\"1\" class=\"dataframe\">\n",
       "  <thead>\n",
       "    <tr style=\"text-align: right;\">\n",
       "      <th></th>\n",
       "      <th>Borough</th>\n",
       "      <th>Arrest Count</th>\n",
       "    </tr>\n",
       "  </thead>\n",
       "  <tbody>\n",
       "    <tr>\n",
       "      <th>0</th>\n",
       "      <td>Bronx</td>\n",
       "      <td>39957</td>\n",
       "    </tr>\n",
       "    <tr>\n",
       "      <th>1</th>\n",
       "      <td>Brooklyn</td>\n",
       "      <td>46825</td>\n",
       "    </tr>\n",
       "    <tr>\n",
       "      <th>2</th>\n",
       "      <td>Manhatten</td>\n",
       "      <td>39652</td>\n",
       "    </tr>\n",
       "    <tr>\n",
       "      <th>3</th>\n",
       "      <td>Queens</td>\n",
       "      <td>36246</td>\n",
       "    </tr>\n",
       "    <tr>\n",
       "      <th>4</th>\n",
       "      <td>Staten Island</td>\n",
       "      <td>7415</td>\n",
       "    </tr>\n",
       "  </tbody>\n",
       "</table>\n",
       "</div>"
      ],
      "text/plain": [
       "         Borough  Arrest Count\n",
       "0          Bronx         39957\n",
       "1       Brooklyn         46825\n",
       "2      Manhatten         39652\n",
       "3         Queens         36246\n",
       "4  Staten Island          7415"
      ]
     },
     "execution_count": 20,
     "metadata": {},
     "output_type": "execute_result"
    }
   ],
   "source": [
    "arrest_df.ARREST_BORO.unique()\n",
    "arrest_df['ARREST_BORO'] = arrest_df['ARREST_BORO'].replace(['B', 'K', 'M', 'Q', 'S'], ['Bronx', 'Brooklyn', 'Manhatten', 'Queens', 'Staten Island'])\n",
    "arrest_bor_df = arrest_df.groupby('ARREST_BORO')\n",
    "arrest_bor_count = arrest_bor_df.size()\n",
    "arrest_bor_count_df = arrest_bor_count.reset_index(name='Arrest Count')\n",
    "arrest_bor_count_df = arrest_bor_count_df.rename(columns={'ARREST_BORO':'Borough'})\n",
    "arrest_bor_count_df.head()"
   ]
  },
  {
   "cell_type": "code",
   "execution_count": 24,
   "metadata": {},
   "outputs": [
    {
     "data": {
      "text/plain": [
       "array(['Brooklyn', 'Manhattan', 'Queens', 'Bronx', 'Staten Island'],\n",
       "      dtype=object)"
      ]
     },
     "execution_count": 24,
     "metadata": {},
     "output_type": "execute_result"
    }
   ],
   "source": [
    "MentFac_df.borough.unique()"
   ]
  },
  {
   "cell_type": "code",
   "execution_count": 25,
   "metadata": {},
   "outputs": [
    {
     "data": {
      "text/html": [
       "<div>\n",
       "<style scoped>\n",
       "    .dataframe tbody tr th:only-of-type {\n",
       "        vertical-align: middle;\n",
       "    }\n",
       "\n",
       "    .dataframe tbody tr th {\n",
       "        vertical-align: top;\n",
       "    }\n",
       "\n",
       "    .dataframe thead th {\n",
       "        text-align: right;\n",
       "    }\n",
       "</style>\n",
       "<table border=\"1\" class=\"dataframe\">\n",
       "  <thead>\n",
       "    <tr style=\"text-align: right;\">\n",
       "      <th></th>\n",
       "      <th>Borough</th>\n",
       "      <th>Facility Count</th>\n",
       "    </tr>\n",
       "  </thead>\n",
       "  <tbody>\n",
       "    <tr>\n",
       "      <th>0</th>\n",
       "      <td>Bronx</td>\n",
       "      <td>9</td>\n",
       "    </tr>\n",
       "    <tr>\n",
       "      <th>1</th>\n",
       "      <td>Brooklyn</td>\n",
       "      <td>19</td>\n",
       "    </tr>\n",
       "    <tr>\n",
       "      <th>2</th>\n",
       "      <td>Manhatten</td>\n",
       "      <td>33</td>\n",
       "    </tr>\n",
       "    <tr>\n",
       "      <th>3</th>\n",
       "      <td>Queens</td>\n",
       "      <td>14</td>\n",
       "    </tr>\n",
       "    <tr>\n",
       "      <th>4</th>\n",
       "      <td>Staten Island</td>\n",
       "      <td>3</td>\n",
       "    </tr>\n",
       "  </tbody>\n",
       "</table>\n",
       "</div>"
      ],
      "text/plain": [
       "         Borough  Facility Count\n",
       "0          Bronx               9\n",
       "1       Brooklyn              19\n",
       "2      Manhatten              33\n",
       "3         Queens              14\n",
       "4  Staten Island               3"
      ]
     },
     "execution_count": 25,
     "metadata": {},
     "output_type": "execute_result"
    }
   ],
   "source": [
    "MentFac_df.borough.unique()\n",
    "MentFac_df['borough'] = MentFac_df['borough'].replace(['Manhattan'], ['Manhatten'])\n",
    "Grouped_MentFac_df = MentFac_df.groupby('borough')\n",
    "Grouped_MentFac_count = Grouped_MentFac_df.size()\n",
    "MenFac_count_df = Grouped_MentFac_count.reset_index(name='Facility Count')\n",
    "MenFac_count_df = MenFac_count_df.rename(columns={'borough':'Borough'})\n",
    "MenFac_count_df.head()"
   ]
  },
  {
   "cell_type": "code",
   "execution_count": 29,
   "metadata": {},
   "outputs": [
    {
     "data": {
      "text/html": [
       "<div>\n",
       "<style scoped>\n",
       "    .dataframe tbody tr th:only-of-type {\n",
       "        vertical-align: middle;\n",
       "    }\n",
       "\n",
       "    .dataframe tbody tr th {\n",
       "        vertical-align: top;\n",
       "    }\n",
       "\n",
       "    .dataframe thead th {\n",
       "        text-align: right;\n",
       "    }\n",
       "</style>\n",
       "<table border=\"1\" class=\"dataframe\">\n",
       "  <thead>\n",
       "    <tr style=\"text-align: right;\">\n",
       "      <th></th>\n",
       "      <th>Borough</th>\n",
       "      <th>Facility Count</th>\n",
       "      <th>Population</th>\n",
       "    </tr>\n",
       "  </thead>\n",
       "  <tbody>\n",
       "    <tr>\n",
       "      <th>0</th>\n",
       "      <td>Bronx</td>\n",
       "      <td>9</td>\n",
       "      <td>1472654</td>\n",
       "    </tr>\n",
       "    <tr>\n",
       "      <th>1</th>\n",
       "      <td>Brooklyn</td>\n",
       "      <td>19</td>\n",
       "      <td>2736074</td>\n",
       "    </tr>\n",
       "    <tr>\n",
       "      <th>2</th>\n",
       "      <td>Manhatten</td>\n",
       "      <td>33</td>\n",
       "      <td>1694251</td>\n",
       "    </tr>\n",
       "    <tr>\n",
       "      <th>3</th>\n",
       "      <td>Queens</td>\n",
       "      <td>14</td>\n",
       "      <td>2405464</td>\n",
       "    </tr>\n",
       "    <tr>\n",
       "      <th>4</th>\n",
       "      <td>Staten Island</td>\n",
       "      <td>3</td>\n",
       "      <td>495747</td>\n",
       "    </tr>\n",
       "  </tbody>\n",
       "</table>\n",
       "</div>"
      ],
      "text/plain": [
       "         Borough  Facility Count  Population\n",
       "0          Bronx               9     1472654\n",
       "1       Brooklyn              19     2736074\n",
       "2      Manhatten              33     1694251\n",
       "3         Queens              14     2405464\n",
       "4  Staten Island               3      495747"
      ]
     },
     "execution_count": 29,
     "metadata": {},
     "output_type": "execute_result"
    }
   ],
   "source": [
    "MentFac_pop_df = pd.merge(MenFac_count_df, pop_df, on='Borough', how='outer')\n",
    "MentFac_pop_df = MentFac_pop_df.rename(columns={'Age':'Population'})\n",
    "MentFac_pop_df.head()"
   ]
  },
  {
   "cell_type": "code",
   "execution_count": 18,
   "metadata": {},
   "outputs": [
    {
     "data": {
      "text/html": [
       "<div>\n",
       "<style scoped>\n",
       "    .dataframe tbody tr th:only-of-type {\n",
       "        vertical-align: middle;\n",
       "    }\n",
       "\n",
       "    .dataframe tbody tr th {\n",
       "        vertical-align: top;\n",
       "    }\n",
       "\n",
       "    .dataframe thead th {\n",
       "        text-align: right;\n",
       "    }\n",
       "</style>\n",
       "<table border=\"1\" class=\"dataframe\">\n",
       "  <thead>\n",
       "    <tr style=\"text-align: right;\">\n",
       "      <th></th>\n",
       "      <th>Borough</th>\n",
       "      <th>Population</th>\n",
       "    </tr>\n",
       "  </thead>\n",
       "  <tbody>\n",
       "    <tr>\n",
       "      <th>0</th>\n",
       "      <td>Bronx</td>\n",
       "      <td>1472654</td>\n",
       "    </tr>\n",
       "    <tr>\n",
       "      <th>1</th>\n",
       "      <td>Brooklyn</td>\n",
       "      <td>2736074</td>\n",
       "    </tr>\n",
       "    <tr>\n",
       "      <th>2</th>\n",
       "      <td>Manhatten</td>\n",
       "      <td>1694251</td>\n",
       "    </tr>\n",
       "    <tr>\n",
       "      <th>3</th>\n",
       "      <td>Queens</td>\n",
       "      <td>2405464</td>\n",
       "    </tr>\n",
       "    <tr>\n",
       "      <th>4</th>\n",
       "      <td>Staten Island</td>\n",
       "      <td>495747</td>\n",
       "    </tr>\n",
       "  </tbody>\n",
       "</table>\n",
       "</div>"
      ],
      "text/plain": [
       "         Borough  Population\n",
       "0          Bronx     1472654\n",
       "1       Brooklyn     2736074\n",
       "2      Manhatten     1694251\n",
       "3         Queens     2405464\n",
       "4  Staten Island      495747"
      ]
     },
     "execution_count": 18,
     "metadata": {},
     "output_type": "execute_result"
    }
   ],
   "source": [
    "pop_df = pop_df.rename(columns={'Age':'Population'})\n",
    "pop_df.head()"
   ]
  },
  {
   "cell_type": "code",
   "execution_count": 21,
   "metadata": {},
   "outputs": [
    {
     "data": {
      "text/html": [
       "<div>\n",
       "<style scoped>\n",
       "    .dataframe tbody tr th:only-of-type {\n",
       "        vertical-align: middle;\n",
       "    }\n",
       "\n",
       "    .dataframe tbody tr th {\n",
       "        vertical-align: top;\n",
       "    }\n",
       "\n",
       "    .dataframe thead th {\n",
       "        text-align: right;\n",
       "    }\n",
       "</style>\n",
       "<table border=\"1\" class=\"dataframe\">\n",
       "  <thead>\n",
       "    <tr style=\"text-align: right;\">\n",
       "      <th></th>\n",
       "      <th>Borough</th>\n",
       "      <th>Arrest Count</th>\n",
       "      <th>Population</th>\n",
       "    </tr>\n",
       "  </thead>\n",
       "  <tbody>\n",
       "    <tr>\n",
       "      <th>0</th>\n",
       "      <td>Bronx</td>\n",
       "      <td>39957</td>\n",
       "      <td>1472654</td>\n",
       "    </tr>\n",
       "    <tr>\n",
       "      <th>1</th>\n",
       "      <td>Brooklyn</td>\n",
       "      <td>46825</td>\n",
       "      <td>2736074</td>\n",
       "    </tr>\n",
       "    <tr>\n",
       "      <th>2</th>\n",
       "      <td>Manhatten</td>\n",
       "      <td>39652</td>\n",
       "      <td>1694251</td>\n",
       "    </tr>\n",
       "    <tr>\n",
       "      <th>3</th>\n",
       "      <td>Queens</td>\n",
       "      <td>36246</td>\n",
       "      <td>2405464</td>\n",
       "    </tr>\n",
       "    <tr>\n",
       "      <th>4</th>\n",
       "      <td>Staten Island</td>\n",
       "      <td>7415</td>\n",
       "      <td>495747</td>\n",
       "    </tr>\n",
       "  </tbody>\n",
       "</table>\n",
       "</div>"
      ],
      "text/plain": [
       "         Borough  Arrest Count  Population\n",
       "0          Bronx         39957     1472654\n",
       "1       Brooklyn         46825     2736074\n",
       "2      Manhatten         39652     1694251\n",
       "3         Queens         36246     2405464\n",
       "4  Staten Island          7415      495747"
      ]
     },
     "execution_count": 21,
     "metadata": {},
     "output_type": "execute_result"
    }
   ],
   "source": [
    "arrest_pop_df = pd.merge(arrest_bor_count_df, pop_df, on='Borough', how='outer')\n",
    "arrest_pop_df.head()"
   ]
  },
  {
   "cell_type": "code",
   "execution_count": 48,
   "metadata": {},
   "outputs": [],
   "source": [
    "merged_arrest_mentfac_df = pd.merge(arrest_pop_df, MentFac_pop_df, on='Borough', how='outer')\n",
    "merged_arrest_mentfac_df = merged_arrest_mentfac_df[['Borough', 'Arrest Count', 'Population_x', 'Facility Count']]\n",
    "merged_arrest_mentfac_df = merged_arrest_mentfac_df.rename(columns={'Population_x':'Population'})\n",
    "\n",
    "merged_arrest_mentfac_df['Crime Rate per 100,000'] = (merged_arrest_mentfac_df['Arrest Count'] / merged_arrest_mentfac_df['Population']) * 100000\n",
    "merged_arrest_mentfac_df['Facility Rate per 100,000'] = (merged_arrest_mentfac_df['Facility Count'] / merged_arrest_mentfac_df['Population']) * 100000\n",
    "merged_arrest_mentfac_df['Crime per Facility'] = (merged_arrest_mentfac_df['Crime Rate per 100,000'] / merged_arrest_mentfac_df['Facility Count'])\n",
    "merged_arrest_mentfac_df\n",
    "merged_arrest_mentfac_df.to_csv(\"Resources/merge_final_count.csv\", index=False, header=True, mode='a')\n"
   ]
  },
  {
   "cell_type": "markdown",
   "metadata": {},
   "source": [
    "chi test - how/when to experct values, total population, expected values would be the borough pop percentage multiplied by total arrests; screenshot of observed vs expected\n",
    "\n",
    "bar graphs arrests & population, facility & population\n",
    "\n",
    "geographic - \n"
   ]
  }
 ],
 "metadata": {
  "kernelspec": {
   "display_name": "base",
   "language": "python",
   "name": "python3"
  },
  "language_info": {
   "codemirror_mode": {
    "name": "ipython",
    "version": 3
   },
   "file_extension": ".py",
   "mimetype": "text/x-python",
   "name": "python",
   "nbconvert_exporter": "python",
   "pygments_lexer": "ipython3",
   "version": "3.11.5"
  }
 },
 "nbformat": 4,
 "nbformat_minor": 2
}
